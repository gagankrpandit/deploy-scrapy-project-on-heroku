{
 "cells": [
  {
   "cell_type": "code",
   "execution_count": 14,
   "metadata": {},
   "outputs": [],
   "source": [
    "!scrapy crawl new_prices_db"
   ]
  },
  {
   "cell_type": "code",
   "execution_count": 11,
   "metadata": {},
   "outputs": [],
   "source": [
    "import pandas as pd"
   ]
  },
  {
   "cell_type": "code",
   "execution_count": 12,
   "metadata": {},
   "outputs": [],
   "source": [
    "df = pd.read_csv('D:/webScraping/scrapy/flipkart_spider/flipkart_spider/priceHistory.csv')"
   ]
  },
  {
   "cell_type": "code",
   "execution_count": null,
   "metadata": {},
   "outputs": [],
   "source": [
    "for i in range(len(df)):\n",
    "    url = df.iloc[i, 0]\n",
    "    priceHistory = list(df.iloc[i, 2:len(df.columns)-2].dropna())\n",
    "    minPrice = min(priceHistory)\n",
    "    avgPrice = round(sum(priceHistory)/len(priceHistory))\n",
    "    newPrice = df.iloc[i, len(df.columns)-1]\n",
    "\n",
    "    if newPrice < minPrice:\n",
    "        print(f'new lowest price of Rs. {newPrice} vs Average price: {avgPrice}\\nurl is {url}\\n')\n",
    "    # elif newPrice == minPrice:\n",
    "    #     print(f'currently at minimum price of Rs. {newPrice} vs Average price: {avgPrice}\\nurl is {url}\\n')\n",
    "    else:\n",
    "        pass"
   ]
  }
 ],
 "metadata": {
  "kernelspec": {
   "display_name": "Python 3.10.5 64-bit",
   "language": "python",
   "name": "python3"
  },
  "language_info": {
   "codemirror_mode": {
    "name": "ipython",
    "version": 3
   },
   "file_extension": ".py",
   "mimetype": "text/x-python",
   "name": "python",
   "nbconvert_exporter": "python",
   "pygments_lexer": "ipython3",
   "version": "3.10.5"
  },
  "orig_nbformat": 4,
  "vscode": {
   "interpreter": {
    "hash": "afdc86c72e07aac22ce05607dc8b410f6c42a07b03f768160006ceb67cd8b25c"
   }
  }
 },
 "nbformat": 4,
 "nbformat_minor": 2
}
